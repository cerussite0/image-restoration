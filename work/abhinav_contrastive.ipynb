{
 "cells": [
  {
   "cell_type": "code",
   "execution_count": 1,
   "id": "24a0cf2b",
   "metadata": {},
   "outputs": [],
   "source": [
    "import torch.nn as nn\n",
    "import torch"
   ]
  },
  {
   "cell_type": "code",
   "execution_count": 6,
   "id": "2bb6ac95",
   "metadata": {},
   "outputs": [],
   "source": [
    "class SimpleMarginContrastiveLoss(nn.Module):\n",
    "    def __init__(self, margin=0.05):\n",
    "        super().__init__()\n",
    "        self.margin = margin\n",
    "\n",
    "    def forward(self, anchor, positive, negatives):\n",
    "    \n",
    "        # Compute distances between anchor and positive \n",
    "        # L-1 norm between anchor and positive sample\n",
    "        \n",
    "        dist_ap = torch.abs(anchor - positive).mean(dim=(1, 2, 3))  # Shape: (B,)\n",
    "        print('dist_ap:', dist_ap)\n",
    "\n",
    "        # Concatenate negatives from the list\n",
    "        negatives_tensor = torch.stack(negatives, dim=1)  # Shape: (B, N, C, H, W)\n",
    "        B, N, C, H, W = negatives_tensor.shape\n",
    "        print('negatives_tensor:', B,N,C,H,W)\n",
    "        \n",
    "        # take a lotta negative samples then take avg distance from anchor\n",
    "        # Reshape negatives for vectorized distance computation\n",
    "        negatives_flat = negatives_tensor.reshape(B * N, C, H, W)  # Shape: (B*N, C, H, W)\n",
    "        print('negatives_flat:', negatives_flat.shape)\n",
    "        anchor_expanded = anchor.unsqueeze(1).repeat(1, N, 1, 1, 1).view(B * N, C, H, W)  # Shape: (B*N, C, H, W)\n",
    "        print('anchor_expanded:', anchor_expanded.shape)\n",
    "\n",
    "        # Compute distances between anchor and negatives\n",
    "        dist_an = torch.abs(anchor_expanded - negatives_flat).mean(dim=(1, 2, 3))  # Shape: (B*N,)\n",
    "        dist_an = dist_an.view(B, N)  # Reshape back to (B, N)\n",
    "        print('dist_an: ', dist_an.shape)\n",
    "\n",
    "        # Aggregate negative distances (e.g., average)\n",
    "        loss_neg = dist_an.sum(dim=1)  # Shape: (B,)\n",
    "\n",
    "        # Compute contrastive loss\n",
    "        loss = dist_ap / (self.margin + loss_neg)  # Add small epsilon to prevent division by zero\n",
    "\n",
    "        return loss.mean()"
   ]
  },
  {
   "cell_type": "code",
   "execution_count": 7,
   "id": "92ed418d",
   "metadata": {},
   "outputs": [],
   "source": [
    "contrastive_loss = SimpleMarginContrastiveLoss(margin=0.05)\n",
    "\n",
    "anchor = torch.randn(1, 3, 256, 256)\n",
    "positive = torch.randn(1, 3, 256, 256)\n",
    "negatives = [torch.randn(1, 3, 256, 256),torch.randn(1, 3, 256, 256),torch.randn(1, 3, 256, 256),torch.randn(1, 3, 256, 256),]"
   ]
  },
  {
   "cell_type": "code",
   "execution_count": 8,
   "id": "26f47623",
   "metadata": {},
   "outputs": [
    {
     "name": "stdout",
     "output_type": "stream",
     "text": [
      "dist_ap: tensor([1.1277])\n",
      "negatives_tensor: 1 4 3 256 256\n",
      "negatives_flat: torch.Size([4, 3, 256, 256])\n",
      "anchor_expanded: torch.Size([4, 3, 256, 256])\n",
      "dist_an:  torch.Size([1, 4])\n"
     ]
    },
    {
     "data": {
      "text/plain": [
       "tensor(0.2470)"
      ]
     },
     "execution_count": 8,
     "metadata": {},
     "output_type": "execute_result"
    }
   ],
   "source": [
    "contrastive_loss(anchor, positive, negatives)"
   ]
  },
  {
   "cell_type": "code",
   "execution_count": null,
   "id": "0b9e8462",
   "metadata": {},
   "outputs": [],
   "source": []
  }
 ],
 "metadata": {
  "kernelspec": {
   "display_name": "pytorch",
   "language": "python",
   "name": "python3"
  },
  "language_info": {
   "codemirror_mode": {
    "name": "ipython",
    "version": 3
   },
   "file_extension": ".py",
   "mimetype": "text/x-python",
   "name": "python",
   "nbconvert_exporter": "python",
   "pygments_lexer": "ipython3",
   "version": "3.12.3"
  }
 },
 "nbformat": 4,
 "nbformat_minor": 5
}
